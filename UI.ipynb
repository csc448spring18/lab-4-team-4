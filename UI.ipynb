{
 "cells": [
  {
   "cell_type": "code",
   "execution_count": 1,
   "metadata": {},
   "outputs": [
    {
     "data": {
      "text/plain": [
       "' If you have issues with unfound packages, uncomment the pip install lines above'"
      ]
     },
     "execution_count": 1,
     "metadata": {},
     "output_type": "execute_result"
    }
   ],
   "source": [
    "''' If you have issues with unfound packages, uncomment the pip install lines below'''\n",
    "# ! pip install ipywidgets\n",
    "# ! jupyter nbextension enable --py widgetsnbextension\n",
    "# ! pip install matplotlib\n",
    "# ! pip install pandas\n",
    "''' If you have issues with unfound packages, uncomment the pip install lines above'''"
   ]
  },
  {
   "cell_type": "code",
   "execution_count": 2,
   "metadata": {},
   "outputs": [],
   "source": [
    "from ipywidgets import *\n",
    "from IPython.display import display\n",
    "import pandas as pd\n",
    "import matplotlib.pyplot as plt\n",
    "from enum import Enum\n",
    "from ipywidgets import HBox, Label\n",
    "\n",
    "# %matplotlib inline"
   ]
  },
  {
   "cell_type": "code",
   "execution_count": 3,
   "metadata": {},
   "outputs": [
    {
     "data": {
      "application/javascript": [
       "IPython.OutputArea.prototype._should_scroll = function(lines) {\n",
       "    return false;\n",
       "}"
      ],
      "text/plain": [
       "<IPython.core.display.Javascript object>"
      ]
     },
     "metadata": {},
     "output_type": "display_data"
    }
   ],
   "source": [
    "%%javascript\n",
    "IPython.OutputArea.prototype._should_scroll = function(lines) {\n",
    "    return false;\n",
    "}"
   ]
  },
  {
   "cell_type": "code",
   "execution_count": 4,
   "metadata": {},
   "outputs": [],
   "source": [
    "class FileType(Enum):\n",
    "    UNSUPPORTED = 0\n",
    "    FASTA = 1\n",
    "    GFT = 2\n",
    "    \n",
    "# TODO use this object to keep track of state information?\n",
    "class State:\n",
    "    fasta_file = None\n",
    "    gft_file = None\n",
    "    exon_start = None\n",
    "    display_objects = {}\n",
    "    \n",
    "    def state_complete():\n",
    "        return fasta_file is None\n",
    "    \n",
    "summary = {}"
   ]
  },
  {
   "cell_type": "code",
   "execution_count": 89,
   "metadata": {},
   "outputs": [],
   "source": [
    "def graph_data(series):\n",
    "    plt.plot(series)\n",
    "    plt.ylabel('Y label')\n",
    "    plt.xlabel('X label')\n",
    "    plt.title('Title')\n",
    "    plt.show()\n",
    "    return plt\n",
    "\n",
    "def read_gft(filename):\n",
    "    gft = pd.read_csv(filename, sep=r'[;\\t]', \n",
    "                     header=None, \n",
    "                     names=[\"seqname\", \"source\", \"feature\", \"coordinate1\", \"coordinate2\", \"score\", \"orientation\", \"frame\", \n",
    "                            \"gene_id\", \"transcript_id\", \"drop_me\"],\n",
    "                     engine='python')\n",
    "    gft = gft.drop(\"drop_me\", axis=1)\n",
    "    return gft\n",
    "\n",
    "def get_avg_gene_span(gft):\n",
    "    spans = []\n",
    "    for gid in gft.gene_id.unique():\n",
    "        exon_coordinate_list = (gft[ gft.gene_id == gid].coordinate1).append(gft[ gft.gene_id == gid].coordinate2)\n",
    "        gene_span = exon_coordinate_list.max() - exon_coordinate_list.min() + 1\n",
    "        spans.append(gene_span)\n",
    "    return pd.Series(spans).mean()\n",
    "\n",
    "def get_avg_intergenic_space(gft):\n",
    "    # intergenic space is min cordinate 1 of gene 2      max cordinate 2 of gene 1\n",
    "    spacing = pd.DataFrame()\n",
    "    spacing[\"left\"] = gft.groupby(\"gene_id\").coordinate1.min()\n",
    "    spacing[\"right\"] = gft.groupby(\"gene_id\").coordinate1.max()\n",
    "    diff = []\n",
    "    for r in range(0, len(spacing) - 1):\n",
    "        diff.append(spacing.iloc[r + 1].right - spacing.iloc[r].left)\n",
    "    return pd.Series(diff).mean()\n",
    "\n",
    "def get_avg_length(gft, condition):\n",
    "    gft = gft[condition]\n",
    "    spacing = pd.DataFrame()\n",
    "    spacing[\"left\"] = gft.coordinate1\n",
    "    spacing[\"right\"] = gft.coordinate2\n",
    "    diff = []\n",
    "    for r in range(0, len(spacing) - 1):\n",
    "            diff.append(spacing.iloc[r].left - spacing.iloc[r + 1].right + 1)\n",
    "    return pd.Series(diff).mean()\n",
    "\n",
    "def find_200_before_gene(gft):\n",
    "    starts = {}\n",
    "    mi = gft.groupby(\"gene_id\").min()\n",
    "    ma = gft.groupby(\"gene_id\").max()\n",
    "\n",
    "    for n in ma[ma.orientation == '-'].index:\n",
    "        starts[str(n)] = (ma.loc[n].coordinate2, ma.loc[n].coordinate2 + 200)\n",
    "\n",
    "    for n in mi[mi.orientation == '+'].index:\n",
    "        starts[str(n)] = (mi.loc[n].coordinate1 - 200, mi.loc[n].coordinate1)\n",
    "    print(starts)\n",
    "    return starts\n",
    "    \n",
    "\n",
    "def process_gft(gft):\n",
    "    global summary\n",
    "    summary[\"Number of Genes\"] = gft.gene_id.nunique()\n",
    "    summary[\"Gene Density\"] = gft.gene_id.nunique() / gft.gene_id.count()\n",
    "    summary[\"Average Gene Span\"] = get_avg_gene_span(gft[gft.feature != \"stop_codon\"])\n",
    "    summary[\"Average Intergenic Spaces\"] = get_avg_intergenic_space(gft) \n",
    "    \n",
    "    summary[\"Average Intron Length\"] = get_avg_length(gft, gft.feature == \"exon\")\n",
    "    \n",
    "    summary[\"Number of Exons\"] = gft[gft.feature == \"exon\"].seqname.count()\n",
    "    summary[\"Number of Introns\"] = summary[\"Number of Exons\"] - 1\n",
    "    summary[\"Average Exon Length\"] = (gft[gft.feature != \"stop_codon\"].coordinate2 - gft[gft.feature != \"stop_codon\"].coordinate1 + 1).mean()\n",
    "    \n",
    "    summary[\"Average GC Content\"] = \"Use information from the fasta file!\"\n",
    "    \n",
    "    summary[\"Starts\"] = find_200_before_gene(gft)\n",
    "    return summary\n",
    "    \n",
    "def read_lab1(filename):\n",
    "    seq = \"\"\n",
    "    with open(filename) as file:\n",
    "        line1 = file.readline()\n",
    "        seq = file.read().replace('\\n', \"\").replace('\\t', \"\")\n",
    "    d = {'A': [], 'C': [], 'G': [], 'T': [], 'N': []}\n",
    "    for s in seq:\n",
    "        d[s].append(1)\n",
    "        for k in d.keys():\n",
    "            if k is not s:\n",
    "                d[k].append(0)\n",
    "    df = pd.DataFrame(d)\n",
    "    return df\n",
    "    \n",
    "def analyze_lab1(df):\n",
    "    total_gc = df.C.mean() + df.G.mean()\n",
    "    global summary \n",
    "    summary[\"Average GC Content\"] = total_gc\n",
    "    summary[\"Total Unknown:\"] = df.N.mean()\n",
    "    \n",
    "    s = int(df.shape[0])\n",
    "    window_size = int(s / 20)\n",
    "    plt.plot(total_gc)\n",
    "    off = int(s/float(66.6))\n",
    "\n",
    "    # TODO make this better. \n",
    "    if off == 0:\n",
    "        plt.plot(get_averages(df, s, window_size, offset=0)[0])\n",
    "    else:\n",
    "        for o in range(0, window_size, off):\n",
    "            plt.plot(get_averages(df, s, window_size, offset=o)[0])\n",
    "\n",
    "    plt.ylabel('Percentage')\n",
    "    plt.xlabel('Window Number')\n",
    "    plt.title('GC Percentage from # to #')\n",
    "    plt.show()\n",
    "    return plt\n",
    "\n",
    "def get_averages(df, s, window_size, offset=0, print_me=False):\n",
    "    rolling_avg = []\n",
    "    window = []\n",
    "    for i in range(offset, s, window_size):\n",
    "        gc = df.iloc[i : i + window_size].G.mean() + df.iloc[i : i + window_size].C.mean()\n",
    "        if print_me:\n",
    "            print(\"window: \", i, i + window_size, \"\\t the gc content is: \", gc, \"unknown: \", df.iloc[i : i + window_size].N.mean())\n",
    "        rolling_avg.append(gc)\n",
    "        window.append((i, i+window_size))\n",
    "    return rolling_avg, window\n",
    "    \n",
    "\n",
    "def handle_gft(fname):\n",
    "    filename = \"data/\" + fname\n",
    "    file_type = FileType.GFT\n",
    "    with open(filename) as file:\n",
    "        line1 = file.readline()\n",
    "        # TODO some type check for is GFT or GFF file!\n",
    "        if line1[0] is '>':\n",
    "            raise UserWarning(\"That file type is unsupported. Exiting.\")\n",
    "            sys.exit(-1)\n",
    "    df = read_gft(filename)\n",
    "    summary = process_gft(df)\n",
    "    return summary\n",
    "\n",
    "def handle_fasta(fname):\n",
    "    filename = \"data/\" + fname\n",
    "    file_type = FileType.FASTA\n",
    "    with open(filename) as file:\n",
    "        line1 = file.readline()\n",
    "        # TODO additional type check for is GFT or GFF file!\n",
    "        if line1[0] is not '>':\n",
    "            raise UserWarning(\"That file type is unsupported. Exiting.\")\n",
    "            sys.exit(-1)\n",
    "\n",
    "    df = read_lab1(filename)\n",
    "    # loop on analysis for each gene\n",
    "    global summary        \n",
    "    genes_start = summary[\"Starts\"]\n",
    "    \n",
    "    for gene, locations in genes_start.items():\n",
    "        print(gene, locations)\n",
    "        upstream_region = df.loc[locations[0] : locations[1]]\n",
    "#         upstream_region = df.loc[0:200]\n",
    "        analyze_lab1(upstream_region)\n",
    "        x = upstream_region.stack()\n",
    "        up_list = pd.Series(pd.Categorical(x[x!=0].index.get_level_values(1))).tolist()\n",
    "        get_mos(\"\".join(up_list))\n",
    "\n",
    "    print(\"\\n\".join(\"{}: {}\".format(k, v) for k, v in summary.items()))\n",
    "    #     return plt_instance\n",
    "    \n",
    "    "
   ]
  },
  {
   "cell_type": "code",
   "execution_count": 94,
   "metadata": {},
   "outputs": [],
   "source": [
    "def frequentWords( s, k ):\n",
    "    counts = {}\n",
    "    for i in range(0,len(s)-k+1):\n",
    "        if s[i:i+k] not in counts:\n",
    "            counts[s[i:i+k]] = 0\n",
    "        counts[s[i:i+k]] += 1\n",
    "    m = max(counts.values())\n",
    "    top_counts = list(counts.values())\n",
    "    top_counts.sort()\n",
    "    \n",
    "    top_counts = top_counts[-3:]\n",
    "    out = []\n",
    "    \n",
    "#     print(counts)\n",
    "    \n",
    "    for kmer in counts:\n",
    "        if k > 5 and (counts[kmer] in top_counts) and (counts[kmer] >= 2):\n",
    "            out.append(kmer)\n",
    "        elif counts[kmer] in top_counts and (counts[kmer] > 2):\n",
    "            out.append(kmer)\n",
    "    return out"
   ]
  },
  {
   "cell_type": "code",
   "execution_count": 95,
   "metadata": {},
   "outputs": [],
   "source": [
    "def get_motifs_and_locations(f, seq):\n",
    "    # please dont judge me chris\n",
    "    motif_location = {}\n",
    "    k = len(f[0])\n",
    "    print(f)\n",
    "    for i in range(0,len(seq) - k + 1):\n",
    "        window = seq[i : i + k]\n",
    "        if window in f:\n",
    "            if window not in motif_location:\n",
    "                motif_location[window] = []\n",
    "            motif_location[window].append(i)\n",
    "    print(\"\\n\".join(\"{}: {}\".format(k, v) for k, v in motif_location.items()))"
   ]
  },
  {
   "cell_type": "code",
   "execution_count": 96,
   "metadata": {},
   "outputs": [],
   "source": [
    "def get_mos(my_sequence):\n",
    "    for i in range(3, 11):\n",
    "        f = frequentWords(my_sequence, i)\n",
    "        if f:\n",
    "            get_motifs_and_locations(f, my_sequence)\n",
    "        else:\n",
    "            break"
   ]
  },
  {
   "cell_type": "code",
   "execution_count": 98,
   "metadata": {
    "scrolled": true
   },
   "outputs": [
    {
     "data": {
      "application/vnd.jupyter.widget-view+json": {
       "model_id": "c5621022e4b74e1dbc07b51c383c2985",
       "version_major": 2,
       "version_minor": 0
      },
      "text/plain": [
       "Dropdown(description='GFT:', options=('gft1.txt', 'DNA.txt', 'customgft.txt', 'Imagine9GFF.txt', 'Contig4_GFT.…"
      ]
     },
     "metadata": {},
     "output_type": "display_data"
    },
    {
     "data": {
      "application/vnd.jupyter.widget-view+json": {
       "model_id": "bdc9b5901fa34e5bba9a300c2f8ea036",
       "version_major": 2,
       "version_minor": 0
      },
      "text/plain": [
       "Dropdown(description='FASTA:', options=('gft1.txt', 'DNA.txt', 'customgft.txt', 'Imagine9GFF.txt', 'Contig4_GF…"
      ]
     },
     "metadata": {},
     "output_type": "display_data"
    },
    {
     "name": "stdout",
     "output_type": "stream",
     "text": [
      "{'gene_id \"Cpr76Bc\"': (2362.0, 2562.0)}\n",
      "gene_id \"Cpr76Bc\" (2362.0, 2562.0)\n"
     ]
    },
    {
     "data": {
      "image/png": "[encoded data removed]",
      "text/plain": [
       "<Figure size 432x288 with 1 Axes>"
      ]
     },
     "metadata": {},
     "output_type": "display_data"
    },
    {
     "name": "stdout",
     "output_type": "stream",
     "text": [
      "['AAT', 'TTT', 'TTA', 'ATT']\n",
      "AAT: [20, 31, 50, 169, 173, 178, 182]\n",
      "TTT: [25, 47, 57, 120, 130, 131, 160, 184]\n",
      "TTA: [48, 52, 58, 132, 171, 180, 188]\n",
      "ATT: [51, 63, 75, 119, 159, 170, 179, 183]\n",
      "['TTAA', 'AATT', 'AGCG']\n",
      "TTAA: [48, 132, 171, 180, 188]\n",
      "AATT: [50, 169, 178, 182]\n",
      "AGCG: [89, 104, 126, 193]\n",
      "['AACGC', 'TTAAT', 'AATTA']\n",
      "AACGC: [42, 113, 136]\n",
      "TTAAT: [48, 171, 180]\n",
      "AATTA: [50, 169, 178]\n",
      "['CAACGC', 'TTAATT', 'ATCGAA', 'AGCGAC', 'GCGACA', 'TTAAAA', 'GAATTA', 'AATTAA', 'ATTAAT']\n",
      "CAACGC: [41, 112]\n",
      "TTAATT: [48, 180]\n",
      "ATCGAA: [94, 174]\n",
      "AGCGAC: [104, 193]\n",
      "GCGACA: [105, 194]\n",
      "TTAAAA: [132, 188]\n",
      "GAATTA: [168, 177]\n",
      "AATTAA: [169, 178]\n",
      "ATTAAT: [170, 179]\n",
      "['AGCGACA', 'GAATTAA', 'AATTAAT']\n",
      "AGCGACA: [104, 193]\n",
      "GAATTAA: [168, 177]\n",
      "AATTAAT: [169, 178]\n",
      "['GAATTAAT']\n",
      "GAATTAAT: [168, 177]\n",
      "Number of Genes: 1\n",
      "Gene Density: 0.14285714285714285\n",
      "Average Gene Span: 5833.0\n",
      "Average Intergenic Spaces: nan\n",
      "Average Intron Length: -2985.0\n",
      "Number of Exons: 3\n",
      "Number of Introns: 2\n",
      "Average Exon Length: 426.0\n",
      "Average GC Content: 0.4427860696517413\n",
      "Starts: {'gene_id \"Cpr76Bc\"': (2362.0, 2562.0)}\n",
      "Total Unknown:: 0.0\n"
     ]
    }
   ],
   "source": [
    "# This is the display UI code which calls event handler code\n",
    "# get all the file names in the data folder and display for our users\n",
    "files = [f for f in os.listdir('data') if os.path.isfile(os.path.join(\"data\", f))]\n",
    "\n",
    "current = State()\n",
    "gtf_dropdown = widgets.Dropdown(options= files, description= \"GFT:\")\n",
    "fasta_dropdown = widgets.Dropdown(options= files, description= \"FASTA:\")\n",
    "exon_start = widgets.BoundedIntText(\n",
    "    value = 7,\n",
    "    min = 0,\n",
    "    max = 10,\n",
    "    step=1,\n",
    "    description='Start : ',\n",
    "    disabled=False\n",
    ")\n",
    "\n",
    "current.display_objects[\"gtf_dropdown\"] =  gtf_dropdown\n",
    "current.display_objects[\"fasta_dropdown\"] = fasta_dropdown\n",
    "current.display_objects[\"exon_start\"] = exon_start\n",
    "\n",
    "def is_change(change):\n",
    "    if change['type'] == 'change' and change['name'] == 'value':\n",
    "        return change['new']\n",
    "    return None\n",
    "\n",
    "def fasta_selection(dd):\n",
    "    if is_change(dd):\n",
    "        return handle_fasta(is_change(dd))\n",
    "    return None\n",
    "\n",
    "def gft_selection(dd):\n",
    "    if is_change(dd):\n",
    "        global summary\n",
    "        summary = handle_gft(is_change(dd))\n",
    "\n",
    "    return None\n",
    "\n",
    "\n",
    "o = gtf_dropdown.observe(gft_selection)\n",
    "o = fasta_dropdown.observe(fasta_selection)\n",
    "\n",
    "display(gtf_dropdown)\n",
    "display(fasta_dropdown)"
   ]
  },
  {
   "cell_type": "code",
   "execution_count": 11,
   "metadata": {},
   "outputs": [],
   "source": [
    "seq = \"\"\n",
    "with open(\"data/DNA.txt\") as file:\n",
    "    line1 = file.readline()\n",
    "    seq = file.readline().upper()\n",
    "my_sequence = seq"
   ]
  },
  {
   "cell_type": "code",
   "execution_count": 12,
   "metadata": {},
   "outputs": [
    {
     "name": "stdout",
     "output_type": "stream",
     "text": [
      "['CGG', 'GGA', 'GAA', 'CGA', 'GCG', 'GAG', 'TCA', 'TTT']\n",
      "CGG: [2, 20, 48, 79, 115, 163]\n",
      "GGA: [6, 50, 62, 80, 117, 164, 175, 179]\n",
      "GAA: [7, 26, 71, 157, 180, 194]\n",
      "CGA: [14, 23, 59, 102, 149, 156]\n",
      "GCG: [22, 47, 101, 114, 121, 189]\n",
      "GAG: [24, 51, 60, 63, 99, 118]\n",
      "TCA: [31, 37, 55, 76, 110, 125]\n",
      "TTT: [74, 105, 106, 107, 108, 152, 153]\n",
      "['TGGA', 'GAAT', 'ATGG', 'CGAT', 'TCAC', 'AAGC', 'AGCG', 'GGAG', 'TTCA', 'GAGG', 'AGGC', 'ATTT', 'TTTC', 'TTTT']\n",
      "TGGA: [5, 174, 178]\n",
      "GAAT: [7, 26, 71]\n",
      "ATGG: [9, 93, 177]\n",
      "CGAT: [14, 102, 149]\n",
      "TCAC: [37, 55, 76]\n",
      "AAGC: [45, 85, 112]\n",
      "AGCG: [46, 100, 113]\n",
      "GGAG: [50, 62, 117]\n",
      "TTCA: [54, 75, 109, 124]\n",
      "GAGG: [60, 63, 118]\n",
      "AGGC: [64, 119, 137]\n",
      "ATTT: [73, 104, 151]\n",
      "TTTC: [74, 108, 153]\n",
      "TTTT: [105, 106, 107, 152]\n"
     ]
    }
   ],
   "source": [
    "for i in range(3, 11):\n",
    "    f = frequentWords(my_sequence[:200], i)\n",
    "    if f:\n",
    "         get_motifs_and_locations(f, my_sequence[:200])\n",
    "    else:\n",
    "        break"
   ]
  },
  {
   "cell_type": "code",
   "execution_count": null,
   "metadata": {},
   "outputs": [],
   "source": []
  }
 ],
 "metadata": {
  "kernelspec": {
   "display_name": "Python 3",
   "language": "python",
   "name": "python3"
  },
  "language_info": {
   "codemirror_mode": {
    "name": "ipython",
    "version": 3
   },
   "file_extension": ".py",
   "mimetype": "text/x-python",
   "name": "python",
   "nbconvert_exporter": "python",
   "pygments_lexer": "ipython3",
   "version": "3.6.5"
  }
 },
 "nbformat": 4,
 "nbformat_minor": 1
}

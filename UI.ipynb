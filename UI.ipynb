{
 "cells": [
  {
   "cell_type": "code",
   "execution_count": 1,
   "metadata": {},
   "outputs": [
    {
     "data": {
      "text/plain": [
       "' If you have issues with unfound packages, uncomment the pip install lines above'"
      ]
     },
     "execution_count": 1,
     "metadata": {},
     "output_type": "execute_result"
    }
   ],
   "source": [
    "''' If you have issues with unfound packages, uncomment the pip install lines below'''\n",
    "# ! pip install ipywidgets\n",
    "# ! jupyter nbextension enable --py widgetsnbextension\n",
    "# ! pip install matplotlib\n",
    "# ! pip install pandas\n",
    "''' If you have issues with unfound packages, uncomment the pip install lines above'''"
   ]
  },
  {
   "cell_type": "code",
   "execution_count": 2,
   "metadata": {},
   "outputs": [],
   "source": [
    "from ipywidgets import *\n",
    "from IPython.display import display\n",
    "import pandas as pd\n",
    "import matplotlib.pyplot as plt\n",
    "from enum import Enum\n",
    "from ipywidgets import HBox, Label\n",
    "\n",
    "# %matplotlib inline"
   ]
  },
  {
   "cell_type": "code",
   "execution_count": 3,
   "metadata": {},
   "outputs": [
    {
     "data": {
      "application/javascript": [
       "IPython.OutputArea.prototype._should_scroll = function(lines) {\n",
       "    return false;\n",
       "}"
      ],
      "text/plain": [
       "<IPython.core.display.Javascript object>"
      ]
     },
     "metadata": {},
     "output_type": "display_data"
    }
   ],
   "source": [
    "%%javascript\n",
    "IPython.OutputArea.prototype._should_scroll = function(lines) {\n",
    "    return false;\n",
    "}"
   ]
  },
  {
   "cell_type": "code",
   "execution_count": 4,
   "metadata": {},
   "outputs": [],
   "source": [
    "class FileType(Enum):\n",
    "    UNSUPPORTED = 0\n",
    "    FASTA = 1\n",
    "    GFT = 2\n",
    "    \n",
    "# TODO use this object to keep track of state information?\n",
    "class State:\n",
    "    fasta_file = None\n",
    "    gft_file = None\n",
    "    exon_start = None\n",
    "    display_objects = {}\n",
    "    \n",
    "    def state_complete():\n",
    "        return fasta_file is None\n",
    "    \n",
    "summary = {}"
   ]
  },
  {
   "cell_type": "code",
   "execution_count": 5,
   "metadata": {},
   "outputs": [],
   "source": [
    "def graph_data(series):\n",
    "    plt.plot(series)\n",
    "    plt.ylabel('Y label')\n",
    "    plt.xlabel('X label')\n",
    "    plt.title('Title')\n",
    "    plt.show()\n",
    "    return plt\n",
    "\n",
    "def read_gft(filename):\n",
    "    gft = pd.read_csv(filename, sep=r'[;\\t]', \n",
    "                     header=None, \n",
    "                     names=[\"seqname\", \"source\", \"feature\", \"coordinate1\", \"coordinate2\", \"score\", \"orientation\", \"frame\", \n",
    "                            \"gene_id\", \"transcript_id\", \"drop_me\"],\n",
    "                     engine='python')\n",
    "    gft = gft.drop(\"drop_me\", axis=1)\n",
    "    return gft\n",
    "\n",
    "def get_avg_gene_span(gft):\n",
    "    spans = []\n",
    "    for gid in gft.gene_id.unique():\n",
    "        exon_coordinate_list = (gft[ gft.gene_id == gid].coordinate1).append(gft[ gft.gene_id == gid].coordinate2)\n",
    "        gene_span = exon_coordinate_list.max() - exon_coordinate_list.min() + 1\n",
    "        spans.append(gene_span)\n",
    "    return pd.Series(spans).mean()\n",
    "\n",
    "def get_avg_intergenic_space(gft):\n",
    "    # intergenic space is min cordinate 1 of gene 2      max cordinate 2 of gene 1\n",
    "    spacing = pd.DataFrame()\n",
    "    spacing[\"left\"] = gft.groupby(\"gene_id\").coordinate1.min()\n",
    "    spacing[\"right\"] = gft.groupby(\"gene_id\").coordinate1.max()\n",
    "    diff = []\n",
    "    for r in range(0, len(spacing) - 1):\n",
    "        diff.append(spacing.iloc[r + 1].right - spacing.iloc[r].left)\n",
    "    return pd.Series(diff).mean()\n",
    "\n",
    "def get_avg_length(gft, condition):\n",
    "    gft = gft[condition]\n",
    "    spacing = pd.DataFrame()\n",
    "    spacing[\"left\"] = gft.coordinate1\n",
    "    spacing[\"right\"] = gft.coordinate2\n",
    "    diff = []\n",
    "    for r in range(0, len(spacing) - 1):\n",
    "            diff.append(spacing.iloc[r].left - spacing.iloc[r + 1].right + 1)\n",
    "    return pd.Series(diff).mean()\n",
    "\n",
    "\n",
    "def process_gft(gft):\n",
    "    global summary\n",
    "    summary[\"Number of Genes\"] = gft.gene_id.nunique()\n",
    "    summary[\"Gene Density\"] = gft.gene_id.nunique() / gft.gene_id.count()\n",
    "    summary[\"Average Gene Span\"] = get_avg_gene_span(gft[gft.feature != \"stop_codon\"])\n",
    "    summary[\"Average Intergenic Spaces\"] = get_avg_intergenic_space(gft) \n",
    "    \n",
    "    summary[\"Average Intron Length\"] = get_avg_length(gft, gft.feature == \"exon\")\n",
    "    \n",
    "    summary[\"Number of Exons\"] = gft[gft.feature == \"exon\"].seqname.count()\n",
    "    summary[\"Number of Introns\"] = summary[\"Number of Exons\"] - 1\n",
    "    summary[\"Average Exon Length\"] = (gft[gft.feature != \"stop_codon\"].coordinate2 - gft[gft.feature != \"stop_codon\"].coordinate1 + 1).mean()\n",
    "    \n",
    "    summary[\"Average GC Content\"] = \"Use information from the fasta file!\"\n",
    "    \n",
    "    coors = gft.coordinate1.append(gft.coordinate2)\n",
    "    #     summary[\"max\"] = int(coors.max())\n",
    "    #     summary[\"min\"] = int(coors.min())\n",
    "    return summary\n",
    "    \n",
    "def read_lab1(filename):\n",
    "    seq = \"\"\n",
    "    with open(filename) as file:\n",
    "        line1 = file.readline()\n",
    "        seq = file.readline().upper()\n",
    "    d = {'A': [], 'C': [], 'G': [], 'T': [], 'N': []}\n",
    "    for s in seq:\n",
    "        d[s].append(1)\n",
    "        for k in d.keys():\n",
    "            if k is not s:\n",
    "                d[k].append(0)\n",
    "    df = pd.DataFrame(d)\n",
    "    return df\n",
    "    \n",
    "def analyze_lab1(df):\n",
    "    total_gc = df.C.mean() + df.G.mean()\n",
    "    global summary \n",
    "    summary[\"Average GC Content:\"] = total_gc\n",
    "    summary[\"Total Unknown:\"] = df.N.mean()\n",
    "    \n",
    "    s = int(df.shape[0])\n",
    "    window_size = int(s / 20)\n",
    "    plt.plot(total_gc)\n",
    "    off = int(s/float(66.6))\n",
    "\n",
    "    # TODO make this better. \n",
    "    if off == 0:\n",
    "        plt.plot(get_averages(df, s, window_size, offset=0)[0])\n",
    "    else:\n",
    "        for o in range(0, window_size, off):\n",
    "            plt.plot(get_averages(df, s, window_size, offset=o)[0])\n",
    "\n",
    "    plt.ylabel('Percentage')\n",
    "    plt.xlabel('Window Number')\n",
    "    plt.title('GC Percentage')\n",
    "    plt.show()\n",
    "    return plt\n",
    "\n",
    "def get_averages(df, s, window_size, offset=0, print_me=False):\n",
    "    rolling_avg = []\n",
    "    window = []\n",
    "    for i in range(offset, s, window_size):\n",
    "        gc = df.iloc[i : i + window_size].G.mean() + df.iloc[i : i + window_size].C.mean()\n",
    "        if print_me:\n",
    "            print(\"window: \", i, i + window_size, \"\\t the gc content is: \", gc, \"unknown: \", df.iloc[i : i + window_size].N.mean())\n",
    "        rolling_avg.append(gc)\n",
    "        window.append((i, i+window_size))\n",
    "    return rolling_avg, window\n",
    "    \n",
    "\n",
    "def handle_gft(fname):\n",
    "    filename = \"data/\" + fname\n",
    "    file_type = FileType.GFT\n",
    "    with open(filename) as file:\n",
    "        line1 = file.readline()\n",
    "        # TODO some type check for is GFT or GFF file!\n",
    "        if line1[0] is '>':\n",
    "            raise UserWarning(\"That file type is unsupported. Exiting.\")\n",
    "            sys.exit(-1)\n",
    "    df = read_gft(filename)\n",
    "    summary = process_gft(df)\n",
    "    return summary\n",
    "\n",
    "def handle_fasta(fname):\n",
    "    filename = \"data/\" + fname\n",
    "    file_type = FileType.FASTA\n",
    "    with open(filename) as file:\n",
    "        line1 = file.readline()\n",
    "        # TODO additional type check for is GFT or GFF file!\n",
    "        if line1[0] is not '>':\n",
    "            raise UserWarning(\"That file type is unsupported. Exiting.\")\n",
    "            sys.exit(-1)\n",
    "    df = read_lab1(filename)\n",
    "    analyze_lab1(df)\n",
    "    #     plt_instance = graph_lab1(df)\n",
    "\n",
    "    print(\"\\n\".join(\"{}: {}\".format(k, v) for k, v in summary.items()))\n",
    "    #     return plt_instance"
   ]
  },
  {
   "cell_type": "code",
   "execution_count": 6,
   "metadata": {
    "scrolled": true
   },
   "outputs": [
    {
     "data": {
      "application/vnd.jupyter.widget-view+json": {
       "model_id": "497d018d881246cab42af3130690b323",
       "version_major": 2,
       "version_minor": 0
      },
      "text/plain": [
       "Dropdown(description='GFT:', options=('gft1.txt', 'DNA.txt', 'customgft.txt'), value='gft1.txt')"
      ]
     },
     "metadata": {},
     "output_type": "display_data"
    },
    {
     "data": {
      "application/vnd.jupyter.widget-view+json": {
       "model_id": "8c2adf51db6f4db2ab4dcf89f610f5d0",
       "version_major": 2,
       "version_minor": 0
      },
      "text/plain": [
       "Dropdown(description='FASTA:', options=('gft1.txt', 'DNA.txt', 'customgft.txt'), value='gft1.txt')"
      ]
     },
     "metadata": {},
     "output_type": "display_data"
    },
    {
     "data": {
      "image/png": "[encoded data removed]",
      "text/plain": [
       "<Figure size 432x288 with 1 Axes>"
      ]
     },
     "metadata": {},
     "output_type": "display_data"
    },
    {
     "name": "stdout",
     "output_type": "stream",
     "text": [
      "Number of Genes: 1\n",
      "Gene Density: 0.07692307692307693\n",
      "Average Gene Span: 5814.0\n",
      "Average Intergenic Spaces: nan\n",
      "Average Intron Length: 714.8\n",
      "Number of Exons: 6\n",
      "Number of Introns: 5\n",
      "Average Exon Length: 375.0\n",
      "Average GC Content: Use information from the fasta file!\n",
      "Average GC Content:: 0.48090909090909095\n",
      "Total Unknown:: 0.0\n"
     ]
    }
   ],
   "source": [
    "# This is the display UI code which calls event handler code\n",
    "# get all the file names in the data folder and display for our users\n",
    "files = [f for f in os.listdir('data') if os.path.isfile(os.path.join(\"data\", f))]\n",
    "\n",
    "current = State()\n",
    "gtf_dropdown = widgets.Dropdown(options= files, description= \"GFT:\")\n",
    "fasta_dropdown = widgets.Dropdown(options= files, description= \"FASTA:\")\n",
    "exon_start = widgets.BoundedIntText(\n",
    "    value = 7,\n",
    "    min = 0,\n",
    "    max = 10,\n",
    "    step=1,\n",
    "    description='Start : ',\n",
    "    disabled=False\n",
    ")\n",
    "\n",
    "current.display_objects[\"gtf_dropdown\"] =  gtf_dropdown\n",
    "current.display_objects[\"fasta_dropdown\"] = fasta_dropdown\n",
    "current.display_objects[\"exon_start\"] = exon_start\n",
    "\n",
    "def is_change(change):\n",
    "    if change['type'] == 'change' and change['name'] == 'value':\n",
    "        return change['new']\n",
    "    return None\n",
    "\n",
    "def fasta_selection(dd):\n",
    "    if is_change(dd):\n",
    "        return handle_fasta(is_change(dd))\n",
    "    return None\n",
    "\n",
    "def gft_selection(dd):\n",
    "    if is_change(dd):\n",
    "        global summary\n",
    "        summary = handle_gft(is_change(dd))\n",
    "#         exon_start.max = summary[\"max\"]\n",
    "#         exon_start.min = summary[\"min\"]\n",
    "        display(fasta_dropdown)\n",
    "    return None\n",
    "\n",
    "o = gtf_dropdown.observe(gft_selection)\n",
    "o = fasta_dropdown.observe(fasta_selection)\n",
    "\n",
    "display(gtf_dropdown)"
   ]
  },
  {
   "cell_type": "code",
   "execution_count": 7,
   "metadata": {},
   "outputs": [],
   "source": [
    "seq = \"\"\n",
    "with open(\"data/DNA.txt\") as file:\n",
    "    line1 = file.readline()\n",
    "    seq = file.readline().upper()\n",
    "my_sequence = seq"
   ]
  },
  {
   "cell_type": "code",
   "execution_count": 8,
   "metadata": {},
   "outputs": [
    {
     "name": "stdout",
     "output_type": "stream",
     "text": [
      "seq CATGTAGACTAG is 12 bases long\n",
      "reverse complement is CTAGTCTACATG\n",
      "protein translation is HVD*\n"
     ]
    }
   ],
   "source": [
    "from Bio.Seq import Seq\n",
    "\n",
    "#create a sequence object\n",
    "my_seq = Seq('CATGTAGACTAG')\n",
    "\n",
    "#print out some details about it\n",
    "print( 'seq %s is %i bases long' % (my_seq, len(my_seq)))\n",
    "print( 'reverse complement is %s' % my_seq.reverse_complement())\n",
    "print( 'protein translation is %s' % my_seq.translate())"
   ]
  },
  {
   "cell_type": "code",
   "execution_count": 9,
   "metadata": {},
   "outputs": [],
   "source": [
    "def frequentWords( s, k ):\n",
    "    counts = {}\n",
    "    for i in range(0,len(s)-k+1):\n",
    "        if s[i:i+k] not in counts:\n",
    "            counts[s[i:i+k]] = 0\n",
    "        counts[s[i:i+k]] += 1\n",
    "    \n",
    "    m = max(counts.values())\n",
    "    out = []\n",
    "    \n",
    "    for kmer in counts:\n",
    "        if counts[kmer] == m:\n",
    "            out.append(kmer)\n",
    "    return out\n",
    "\n",
    "f = frequentWords(my_sequence, 20)"
   ]
  },
  {
   "cell_type": "code",
   "execution_count": 10,
   "metadata": {},
   "outputs": [
    {
     "data": {
      "text/plain": [
       "[Seq('TGTATTTATGTTTTTTTGTT', Alphabet()),\n",
       " Seq('GTATTTATGTTTTTTTGTTT', Alphabet()),\n",
       " Seq('TATTTATGTTTTTTTGTTTA', Alphabet()),\n",
       " Seq('ATTTATGTTTTTTTGTTTAT', Alphabet()),\n",
       " Seq('TTTATGTTTTTTTGTTTATT', Alphabet()),\n",
       " Seq('CCGAAGTCGCAGCAGTGAAC', Alphabet()),\n",
       " Seq('CGAAGTCGCAGCAGTGAACG', Alphabet()),\n",
       " Seq('GAAGTCGCAGCAGTGAACGA', Alphabet()),\n",
       " Seq('AAGTCGCAGCAGTGAACGAA', Alphabet())]"
      ]
     },
     "execution_count": 10,
     "metadata": {},
     "output_type": "execute_result"
    }
   ],
   "source": [
    "from Bio import motifs\n",
    "\n",
    "instances = []\n",
    "for w in f:\n",
    "    instances.append(Seq(w))\n",
    "    \n",
    "m = motifs.create(instances)\n",
    "instances"
   ]
  },
  {
   "cell_type": "code",
   "execution_count": 11,
   "metadata": {},
   "outputs": [
    {
     "data": {
      "text/plain": [
       "Seq('CCCGGTGGAATGGTCGATCCCGGCGAGAATGTCAGTGTCACCCTTAAGCGGGAG...GCA', IUPACUnambiguousDNA())"
      ]
     },
     "execution_count": 11,
     "metadata": {},
     "output_type": "execute_result"
    }
   ],
   "source": [
    "test_seq=Seq(my_sequence, m.alphabet)\n",
    "test_seq"
   ]
  },
  {
   "cell_type": "code",
   "execution_count": 12,
   "metadata": {},
   "outputs": [
    {
     "name": "stdout",
     "output_type": "stream",
     "text": [
      "5651 TGTATTTATGTTTTTTTGTT\n",
      "5652 GTATTTATGTTTTTTTGTTT\n",
      "5653 TATTTATGTTTTTTTGTTTA\n",
      "5654 ATTTATGTTTTTTTGTTTAT\n",
      "5655 TTTATGTTTTTTTGTTTATT\n",
      "5682 TGTATTTATGTTTTTTTGTT\n",
      "5683 GTATTTATGTTTTTTTGTTT\n",
      "5684 TATTTATGTTTTTTTGTTTA\n",
      "5685 ATTTATGTTTTTTTGTTTAT\n",
      "5686 TTTATGTTTTTTTGTTTATT\n",
      "10401 CCGAAGTCGCAGCAGTGAAC\n",
      "10402 CGAAGTCGCAGCAGTGAACG\n",
      "10403 GAAGTCGCAGCAGTGAACGA\n",
      "10404 AAGTCGCAGCAGTGAACGAA\n",
      "10440 CCGAAGTCGCAGCAGTGAAC\n",
      "10441 CGAAGTCGCAGCAGTGAACG\n",
      "10442 GAAGTCGCAGCAGTGAACGA\n",
      "10443 AAGTCGCAGCAGTGAACGAA\n"
     ]
    }
   ],
   "source": [
    "for pos, seq in m.instances.search(test_seq):\n",
    "    print(\"%i %s\" % (pos, seq))"
   ]
  },
  {
   "cell_type": "code",
   "execution_count": 13,
   "metadata": {},
   "outputs": [
    {
     "data": {
      "text/plain": [
       "20"
      ]
     },
     "execution_count": 13,
     "metadata": {},
     "output_type": "execute_result"
    }
   ],
   "source": [
    "len(seq)"
   ]
  },
  {
   "cell_type": "code",
   "execution_count": null,
   "metadata": {},
   "outputs": [],
   "source": []
  }
 ],
 "metadata": {
  "kernelspec": {
   "display_name": "Python 3",
   "language": "python",
   "name": "python3"
  },
  "language_info": {
   "codemirror_mode": {
    "name": "ipython",
    "version": 3
   },
   "file_extension": ".py",
   "mimetype": "text/x-python",
   "name": "python",
   "nbconvert_exporter": "python",
   "pygments_lexer": "ipython3",
   "version": "3.6.5"
  }
 },
 "nbformat": 4,
 "nbformat_minor": 1
}
